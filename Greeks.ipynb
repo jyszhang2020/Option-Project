{
  "nbformat": 4,
  "nbformat_minor": 0,
  "metadata": {
    "colab": {
      "name": "Greeks.ipynb",
      "provenance": [],
      "collapsed_sections": []
    },
    "kernelspec": {
      "name": "python3",
      "display_name": "Python 3"
    },
    "language_info": {
      "name": "python"
    }
  },
  "cells": [
    {
      "cell_type": "markdown",
      "metadata": {
        "id": "_xMJ1-Sn_94u"
      },
      "source": [
        "# Greek Letters\n",
        "\n",
        "Option Greeks measure the exposure of option price or option delta to movement of different factors such as the underlying price, time and volatility.\n",
        "\n",
        "**First Order Greeks**\n",
        "\n",
        "Delta, Vega, Theta, Rho\n",
        "\n",
        "\n",
        "**Second Order Greeks**\n",
        "Gamma\n"
      ]
    },
    {
      "cell_type": "code",
      "metadata": {
        "id": "2-UkRxxTtfuP"
      },
      "source": [
        "# import library\n",
        "from math import log, sqrt, pi, exp\n",
        "from scipy.stats import norm\n",
        "from datetime import datetime, date\n",
        "import numpy as np\n",
        "import pandas as pd\n",
        "from pandas import DataFrame\n",
        "import pandas_datareader.data as web"
      ],
      "execution_count": null,
      "outputs": []
    },
    {
      "cell_type": "markdown",
      "metadata": {
        "id": "RHdV2nHWvlOh"
      },
      "source": [
        "*   C = call option price\n",
        "*   N = CDF of the normal distribution\n",
        "*   St= spot price of an asset\n",
        "*   K = strike price\n",
        "*   r = risk-free interest rate\n",
        "*   t = time to maturity\n",
        "*   σ = volatility of the asset"
      ]
    },
    {
      "cell_type": "code",
      "metadata": {
        "id": "oAFs7JnfvlhO"
      },
      "source": [
        "\"\"\"\n",
        "Black Scholes Model\n",
        "\"\"\"\n",
        "def d1(S, K, t, r, sigma):\n",
        "    return(log(S / K) + (r + sigma ** 2 / 2.) * t) / sigma * sqrt(t)\n",
        "\n",
        "def d2(S, K, t, r, sigma):\n",
        "    return d1(S, K, t, r, sigma) - sigma * sqrt(t)\n",
        "\n",
        "def bs_call(S, K, t, r, sigma):\n",
        "    return S * norm.cdf(d1(S, K, t, r, sigma)) - K * exp(-r * t) * norm.cdf(d2(S, K, t, r, sigma))\n",
        "  \n",
        "def bs_put(S, K, t, r, sigma):\n",
        "    return K * exp(-r * t) * norm.cdf(-d2(S, K, t, r, sigma)) - S * norm.cdf(-d1(S, K, t, r, sigma))"
      ],
      "execution_count": null,
      "outputs": []
    },
    {
      "cell_type": "markdown",
      "metadata": {
        "id": "GwVCpSfXALAS"
      },
      "source": [
        "## Delta\n",
        "\n",
        "Delta is the rate of change of the option price with respect to the price of the underlying asset.\n",
        "\n",
        "It measures the first-order sensitivity of the price to a movement in stock price S.\n"
      ]
    },
    {
      "cell_type": "code",
      "metadata": {
        "id": "XixU35Qy_H5m"
      },
      "source": [
        "def delta(Type, S, K, t, r, sigma):\n",
        "  if Type == 'c':\n",
        "    return norm.cdf(d1(S, K, t, r, sigma))\n",
        "  elif Type == 'p':\n",
        "    return -norm.cdf(-d1(S ,K, t, r, sigma))\n"
      ],
      "execution_count": 28,
      "outputs": []
    },
    {
      "cell_type": "markdown",
      "metadata": {
        "id": "VGABqzOZBEGw"
      },
      "source": [
        "# Gamma\n",
        "\n",
        "Gamma is the rate of change of the portfolio's delta with respect to the underlying asset's price. It represents the second-order sensitivity of the option to a movement in the underlying asset’s price."
      ]
    },
    {
      "cell_type": "code",
      "metadata": {
        "id": "MgPqGbq2_6-x"
      },
      "source": [
        "def gamma(Type, S, K, t, r, sigma):\n",
        "  if Type == 'c' or Type == 'p':\n",
        "    return norm.pdf(d1(S, K, t, r, sigma)) / (S * sigma * sqrt(t))\n"
      ],
      "execution_count": null,
      "outputs": []
    },
    {
      "cell_type": "markdown",
      "metadata": {
        "id": "WD0njNSKBKtc"
      },
      "source": [
        "# Vega\n",
        "\n",
        "The Vega is the rate of change in the value of the option with respect to the volatility of the underlying asset."
      ]
    },
    {
      "cell_type": "code",
      "metadata": {
        "id": "EzJHcJlxBRLY"
      },
      "source": [
        "def vega(Type, S, K, t, r, sigma):\n",
        "  if Type == 'c' or Type == 'p':\n",
        "    return 0.01 * S * norm.pdf(d1(S, K, t, r, sigma) * sqrt(t))\n"
      ],
      "execution_count": null,
      "outputs": []
    },
    {
      "cell_type": "markdown",
      "metadata": {
        "id": "-3ooBHOWBeRt"
      },
      "source": [
        "# Theta\n",
        "\n",
        "Theta is the rate of change of the value of the option with respect to the passage of time. It is also referred to as the time decay of the portfolio."
      ]
    },
    {
      "cell_type": "code",
      "metadata": {
        "id": "yqmj16MCBhiN"
      },
      "source": [
        "def theta(Type, S, K, t, r, sigma):\n",
        "  if Type == 'c':\n",
        "    return 0.01 * (-(S * norm.pdf(d1(S, K, t, r, sigma)) * sigma) / (2 * sqrt(t)) - r * K * exp(-r * t) * norm.cdf(d2(S, K, t, r, sigma)))\n",
        "  elif Type == 'p':\n",
        "    return 0.01 * (-(S * norm.pdf(d1(S, K, t, r, sigma)) * sigma) / (2 * sqrt(t)) + r * K * exp(-r * t) * norm.cdf(-d2(S, K, t, r, sigma)))\n"
      ],
      "execution_count": null,
      "outputs": []
    },
    {
      "cell_type": "markdown",
      "metadata": {
        "id": "xfu9UN1OBkHU"
      },
      "source": [
        "# Rho\n",
        "\n",
        "Rho is the rate of change of the value of a derivative with respect to the interest rate."
      ]
    },
    {
      "cell_type": "code",
      "metadata": {
        "id": "GBnxHQaEBnmr"
      },
      "source": [
        "def rho(Type, S, K, t, r, sigma):\n",
        "  if Type == 'c':\n",
        "    return 0.01 * (K * t * exp(-r * t) * norm.cdf(d2(S, K, t, r, sigma)))\n",
        "  elif Type== 'p':\n",
        "     return 0.01 * (-K * t * exp(-r * t) * norm.cdf(-d2(S, K, t, r, sigma)))"
      ],
      "execution_count": null,
      "outputs": []
    },
    {
      "cell_type": "markdown",
      "metadata": {
        "id": "YPxozZ2gv3qJ"
      },
      "source": [
        "# Implied Volatility\n",
        "It is defined as the expected future volatility of the stock over the life of the option. It is directly influenced by the supply and demand of the underlying option and the market’s expectation of the stock price’s direction."
      ]
    },
    {
      "cell_type": "code",
      "metadata": {
        "id": "paJzzsx7v5-8"
      },
      "source": [
        "def call_implied_volatility(Price, S, K, t, r):\n",
        "    sigma = 0.001\n",
        "    while sigma < 1:\n",
        "        Price_implied = S * \\\n",
        "            norm.cdf(d1(S, K, t, r, sigma)) - K * exp(-r * t) * \\\n",
        "            norm.cdf(d2(S, K, t, r, sigma))\n",
        "        if Price-(Price_implied) < 0.001:\n",
        "            return sigma\n",
        "        sigma += 0.001\n",
        "    return \"Not Found\"\n",
        "\n",
        "def put_implied_volatility(Price, S, K, t, r):\n",
        "    sigma = 0.001\n",
        "    while sigma < 1:\n",
        "        Price_implied = K * exp(-r * t) - S + bs_call(S, K, t, r, sigma)\n",
        "        if Price-(Price_implied) < 0.001:\n",
        "            return sigma\n",
        "        sigma += 0.001\n",
        "    return \"Not Found\""
      ],
      "execution_count": 21,
      "outputs": []
    },
    {
      "cell_type": "markdown",
      "metadata": {
        "id": "y_mKdHe4kYRB"
      },
      "source": [
        "We are able to calculate the sigma value, volatility of the stock, by multiplying the standard deviation of the stock returns over the past year by the square root of 252 (number of days the market is open over a year). \n",
        "\n",
        "Current Stock price: last close price\n",
        "Risk-free rate: the 10-year U.S. treasury yield which you could get from ^TNX"
      ]
    },
    {
      "cell_type": "code",
      "metadata": {
        "id": "CypIAXlwJtIx"
      },
      "source": [
        "def previous_time():\n",
        "  #today = datetime.now()\n",
        "  today_raw = '05-26-2021'\n",
        "  today = datetime.strptime(today_raw, \"%m-%d-%Y\")\n",
        "\n",
        "  # time to maturity\n",
        "  t = (datetime.strptime(expiry, \"%m-%d-%Y\") - today).days / 365\n",
        "  one_day_ago = today.replace(day = today.day - 1)\n",
        "  one_year_ago = today.replace(year = today.year - 1)\n",
        "\n",
        "  return [one_day_ago, one_year_ago]\n",
        "\n",
        "one_day_ago = previous_time()[0]\n",
        "one_year_ago = previous_time()[1]"
      ],
      "execution_count": 82,
      "outputs": []
    },
    {
      "cell_type": "code",
      "metadata": {
        "id": "nOPGU4sYKkiX"
      },
      "source": [
        "def optionPrice(stock, expiry, K):\n",
        "\n",
        "  today = datetime.now()\n",
        "  #today_raw = '12-18-2021'\n",
        "  today = datetime.strptime(today_raw, \"%m-%d-%Y\")\n",
        "\n",
        "  # Time to maturity\n",
        "  t = (datetime.strptime(expiry, \"%m-%d-%Y\") - today).days / 365\n",
        "  one_day_ago = today.replace(day = today.day - 1)\n",
        "  one_year_ago = today.replace(year = today.year - 1)\n",
        "\n",
        "  # Get data\n",
        "  df = web.DataReader(stock, 'yahoo', one_year_ago, today)\n",
        "  df = df.sort_values(by = \"Date\")\n",
        "  df = df.dropna()\n",
        "\n",
        "  # Underlying price\n",
        "  S = df['Close'].iloc[-1]\n",
        "\n",
        "  # Previous day's price\n",
        "  df = df.assign(close_day_before=df.Close.shift(1))\n",
        "\n",
        "  # Stock Return\n",
        "  df['returns'] = ((df.Close - df.close_day_before)/df.close_day_before)\n",
        "\n",
        "  # Sigma\n",
        "  sigma = np.sqrt(252) * df['returns'].std()\n",
        "  print(\"Sigma: \", sigma)\n",
        "\n",
        "  # Risk free rate\n",
        "  r = web.DataReader(\"^TNX\", 'yahoo', one_day_ago, today)['Close'].iloc[-1]\n",
        "  print(\"Risk free rate: \", r)\n",
        "\n",
        "  print('The Option Price for ' + stock + ' at price ' + str(K) + ' on ' + expiry + ' is: ', bs_call(S, K, t, r, sigma))\n",
        "  print(\"Implied Volatility: \" +\n",
        "        str(100 * call_implied_volatility(bs_call(S, K, t, r, sigma), S, K, t, r)) + \" %\")\n",
        "  print(\"Delta: \" + str(delta('c', S, K, t, r, sigma)))\n",
        "  print(\"Gamma: \" + str(gamma('c', S, K, t, r, sigma)))\n"
      ],
      "execution_count": 105,
      "outputs": []
    },
    {
      "cell_type": "code",
      "metadata": {
        "colab": {
          "base_uri": "https://localhost:8080/"
        },
        "id": "-VKiYdeiDBhG",
        "outputId": "e054857b-fc80-4743-db7b-e77f4c7d372f"
      },
      "source": [
        "# Expriation date\n",
        "expiry = '06-04-2021'\n",
        "# Strike price\n",
        "K = 150\n",
        "\n",
        "print(optionPrice('IBM', expiry, 150))\n",
        "print(optionPrice('MSFT', expiry, 260))"
      ],
      "execution_count": 106,
      "outputs": [
        {
          "output_type": "stream",
          "text": [
            "Sigma:  0.2787305738058885\n",
            "Risk free rate:  1.5640000104904175\n",
            "The Option Price for IBM at price 150 on 06-04-2021 is:  2.2517731627012836\n",
            "Implied Volatility: 27.90000000000002 %\n",
            "Delta: 0.49937986378924215\n",
            "Gamma: 0.06339010138071849\n",
            "None\n",
            "Sigma:  0.27862813024366295\n",
            "Risk free rate:  1.5640000104904175\n",
            "The Option Price for MSFT at price 260 on 06-04-2021 is:  5.1459075147165265\n",
            "Implied Volatility: 27.90000000000002 %\n",
            "Delta: 0.5016091796504965\n",
            "Gamma: 0.036223384395352276\n",
            "None\n"
          ],
          "name": "stdout"
        }
      ]
    }
  ]
}